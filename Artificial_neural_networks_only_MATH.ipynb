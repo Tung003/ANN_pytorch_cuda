{
  "nbformat": 4,
  "nbformat_minor": 0,
  "metadata": {
    "colab": {
      "provenance": [],
      "mount_file_id": "1KqHLE4hBJUAUwhNHnQz1zEYUbKEL6GtZ",
      "authorship_tag": "ABX9TyMmJ8FFHzZx5DtvrXFQMsqU",
      "include_colab_link": true
    },
    "kernelspec": {
      "name": "python3",
      "display_name": "Python 3"
    },
    "language_info": {
      "name": "python"
    }
  },
  "cells": [
    {
      "cell_type": "markdown",
      "metadata": {
        "id": "view-in-github",
        "colab_type": "text"
      },
      "source": [
        "<a href=\"https://colab.research.google.com/github/Tung003/ANN_pytorch_cuda/blob/master/Artificial_neural_networks_only_MATH.ipynb\" target=\"_parent\"><img src=\"https://colab.research.google.com/assets/colab-badge.svg\" alt=\"Open In Colab\"/></a>"
      ]
    },
    {
      "cell_type": "markdown",
      "source": [],
      "metadata": {
        "id": "6FApsWubuurd"
      }
    },
    {
      "cell_type": "code",
      "execution_count": null,
      "metadata": {
        "id": "td0ya0qJqEOZ",
        "collapsed": true
      },
      "outputs": [],
      "source": [
        "!pip install numpy\n",
        "!pip install matplotlib\n",
        "!pip install pandas\n",
        "!pip install tqdm\n",
        "!pip install scikit-learn"
      ]
    },
    {
      "cell_type": "code",
      "source": [
        "import numpy as np\n",
        "import matplotlib.pyplot as plt\n",
        "import pandas as pd\n",
        "import math\n",
        "import os\n",
        "from tqdm import tqdm\n",
        "from sklearn.model_selection import train_test_split"
      ],
      "metadata": {
        "id": "HjDh9i_brkS4"
      },
      "execution_count": 111,
      "outputs": []
    },
    {
      "cell_type": "markdown",
      "source": [
        "#split data to train and test and val\n",
        "[10000 samples test, 10000 samples val and 50000 samples train]"
      ],
      "metadata": {
        "id": "WX7Wmb3k4PfO"
      }
    },
    {
      "cell_type": "code",
      "source": [
        "def processed_data():\n",
        "      path_train=\"/content/drive/MyDrive/Colab Notebooks/MNIST/new_mnist/mnist_train.csv\"\n",
        "      path_test =\"/content/drive/MyDrive/Colab Notebooks/MNIST/new_mnist/mnist_test.csv\"\n",
        "      path_val  =\"/content/drive/MyDrive/Colab Notebooks/MNIST/new_mnist/mnist_val.csv\"\n",
        "      if not os.path.exists(path_train):\n",
        "          raise FileNotFoundError(\"File not found please check \",path_train)\n",
        "      if not os.path.exists(path_test):\n",
        "          raise FileNotFoundError(\"File not found please check \",path_test)\n",
        "      if not os.path.exists(path_val):\n",
        "          raise FileNotFoundError(\"File not found please check \",path_val)\n",
        "\n",
        "      df_train=pd.read_csv(path_train)\n",
        "      df_test =pd.read_csv(path_test)\n",
        "      df_val  =pd.read_csv(path_val)\n",
        "      target=\"label\"\n",
        "      #chia bộ train và bộ test\n",
        "      y_train= df_train[target]\n",
        "      x_train= df_train.drop(target,axis=1)\n",
        "      y_test= df_test[target]\n",
        "      x_test= df_test.drop(target,axis=1)\n",
        "      y_val = df_val[target]\n",
        "      x_val =df_val.drop(target,axis=1)\n",
        "\n",
        "      x_train, x_val, x_test= x_train/255., x_val/255., x_test/255.\n",
        "      return x_train,x_test,x_val,y_train,y_test,y_val\n"
      ],
      "metadata": {
        "id": "y_-B2e-z3CwY"
      },
      "execution_count": null,
      "outputs": []
    },
    {
      "cell_type": "markdown",
      "source": [
        "#One hot label"
      ],
      "metadata": {
        "id": "VntrOwFeRDmk"
      }
    },
    {
      "cell_type": "code",
      "source": [
        "def one_hot(labels,numclases=10):\n",
        "      \"\"\"\n",
        "          0=>label=0000000000\n",
        "          1=>label=0100000000\n",
        "          4=>label=0000100000\n",
        "          9=>label=0000000001\n",
        "      \"\"\"\n",
        "      label_return=np.zeros(numclases)\n",
        "      label_return[labels]=1\n",
        "      return label_return"
      ],
      "metadata": {
        "collapsed": true,
        "id": "O3as7RJrvqcQ"
      },
      "execution_count": 113,
      "outputs": []
    },
    {
      "cell_type": "markdown",
      "source": [
        "#Load data\n",
        "input [mini batch from data]"
      ],
      "metadata": {
        "id": "FCJ0lCVcoKEZ"
      }
    },
    {
      "cell_type": "code",
      "source": [
        "class load_data:\n",
        "  \"\"\"\n",
        "      train_data shape= (50000, 784)\n",
        "      put to model 100 samples each time [batch_size=100]\n",
        "  \"\"\"\n",
        "  def __init__(self,data,label,shufle=True):\n",
        "        self.data = np.array(data)\n",
        "        self.label = np.array(label)\n",
        "\n",
        "        if shufle:\n",
        "          indices = np.arange(len(self.data))\n",
        "          np.random.shuffle(indices)\n",
        "          self.data = self.data[indices]\n",
        "          self.label = self.label[indices]\n",
        "\n",
        "  def __getitem__(self,index):\n",
        "        return self.data[index],one_hot(self.label[index])\n",
        "\n",
        "  def __len__(self):\n",
        "        return len(self.data)\n",
        "\n",
        "  def get_batch(self,batch_size):\n",
        "        \"\"\"\n",
        "            input: num of batch size\n",
        "            output: batch size samples x and y (one-hot)\n",
        "        \"\"\"\n",
        "        indices = np.random.choice(len(self.data), batch_size, replace=False)\n",
        "        batch_X = self.data[indices]\n",
        "        batch_y = np.array([one_hot(self.label[i]) for i in indices])\n",
        "\n",
        "        return batch_X, batch_y\n"
      ],
      "metadata": {
        "id": "tSq1DkC0oJIK"
      },
      "execution_count": 114,
      "outputs": []
    },
    {
      "cell_type": "markdown",
      "source": [
        "# Parent Class"
      ],
      "metadata": {
        "id": "rGjslFirs8XW"
      }
    },
    {
      "cell_type": "code",
      "source": [
        "class Layer:\n",
        "  \"\"\"\n",
        "      Parent class: attribute [input, output]\n",
        "                           method  [forward, backward]\n",
        "  \"\"\"\n",
        "  def __init__(self,input,output):\n",
        "        self.input=None\n",
        "        self.output=None\n",
        "\n",
        "  def forward(self,input):\n",
        "        pass\n",
        "\n",
        "  def backward(self,output_gradien,learning_rate):\n",
        "        pass"
      ],
      "metadata": {
        "id": "4VvrQeYkC-ib"
      },
      "execution_count": 115,
      "outputs": []
    },
    {
      "cell_type": "markdown",
      "source": [
        "#Class Activation\n"
      ],
      "metadata": {
        "id": "mohhPP3EDM58"
      }
    },
    {
      "cell_type": "code",
      "source": [
        "#Activtion class\n",
        "class Activation(Layer):\n",
        "    def __init__(self,activation,activation_prime):\n",
        "        self.activation=activation\n",
        "        self.activation_prime=activation_prime\n",
        "\n",
        "    def forward(self,input):\n",
        "        self.input=input\n",
        "        return self.activation(self.input)\n",
        "\n",
        "    def backward(self,output_gradient,lr):\n",
        "        return np.multiply(self.activation_prime(self.input),output_gradient)\n",
        "\n",
        "class Tanh(Activation):\n",
        "    def __init__(self):\n",
        "        super().__init__(self.tanh,self.tanh_prime)\n",
        "    def tanh(self,x):\n",
        "        return np.tanh(x)\n",
        "    def tanh_prime(self,x):\n",
        "        return 1-np.tanh(x)**2\n",
        "\n",
        "class Relu(Activation):\n",
        "    def __init__(self):\n",
        "        super().__init__(self.relu,self.relu_prime)\n",
        "\n",
        "    def relu(self,x):\n",
        "        return np.maximum(0,x)\n",
        "    def relu_prime(self,x):\n",
        "        return (x>0).astype(x.dtype)\n",
        "\n",
        "class Leaky_Relu(Activation):\n",
        "    def __init__(self,alpha=0.01):\n",
        "        super().__init__(self.leaky_relu,self.leaky_relu_prime)\n",
        "\n",
        "    def leaky_relu(self,x):\n",
        "        return np.where(x>0,x, self.alpha*x)\n",
        "    def leaky_relu_prime(self,x):\n",
        "        return np.where(x>0, 1,self.alpha)\n",
        "\n",
        "class Softmax(Layer):\n",
        "    def __init__(self, input=None, output=None):\n",
        "        super().__init__(None,None)\n",
        "    def forward(self, x):\n",
        "        exp_x = np.exp(x - np.max(x, axis=-1, keepdims=True))\n",
        "        self.output = exp_x / (np.sum(exp_x, axis=-1, keepdims=True)+1e-15)\n",
        "        return self.output\n",
        "\n",
        "    def backward(self, output_gradient, lr):\n",
        "        # Output gradient phải đến từ cross-entropy, đã tính gộp\n",
        "        return output_gradient"
      ],
      "metadata": {
        "id": "mDOYM0Hf1IV-"
      },
      "execution_count": 116,
      "outputs": []
    },
    {
      "cell_type": "markdown",
      "source": [
        "#Class ANN"
      ],
      "metadata": {
        "id": "GF62lc0sDU68"
      }
    },
    {
      "cell_type": "code",
      "source": [
        "class Artificial_Neuron_Networks_new(Layer):\n",
        "    \"\"\"\n",
        "        input[2x3]=input[1x6]=>Z=X.W+B -> W[6 x output_size]\n",
        "        vì 2 ma trận X và W nhân với nhau cho ra ma trận s'=[1x6].[6 x output_size]\n",
        "        s'=[1 x output_size]\n",
        "        và B phải có kích thước [1 x output_size] để cộng s' với B => Z=[1 x output_size]\n",
        "        *{Z0=x0.W00 + x1.W10 + x2.W20 + x3.W30 + x4.W40 + x5.W50 + b0}\n",
        "        {Z1=x0.W01 + x1.W11 + x2.W21 + x3.W31 + x4.W41 + x5.W51 + b1}\n",
        "        {Z2=x0.W02 + x1.W12 + x2.W22 + x3.W32 + x4.W42 + x5.W52 + b2}\n",
        "        {Z3=x0.W03 + x1.W13 + x2.W23 + x3.W33 + x4.W43 + x5.W53 + b3}\n",
        "        {Z4=x0.W04 + x1.W14 + x2.W24 + x3.W34 + x4.W44 + x5.W54 + b4}\n",
        "        {Z5=x0.W05 + x1.W15 + x2.W25 + x3.W35 + x4.W45 + x5.W55 + b5}\n",
        "        {Z6=x0.W06 + x1.W16 + x2.W26 + x3.W36 + x4.W46 + x5.W56 + b6}\n",
        "    \"\"\"\n",
        "    def __init__(self,num_in_neuron,num_out_neuron,activation=None):\n",
        "        #super().__init__(num_in_neuron, num_out_neuron)\n",
        "        self.weight = np.random.randn(num_in_neuron, num_out_neuron)* np.sqrt(2. / num_in_neuron)\n",
        "        self.bias=np.zeros((1,num_out_neuron))\n",
        "        self.activation=activation\n",
        "\n",
        "    def forward(self,input):\n",
        "        \"\"\"\n",
        "            nếu input có 6 neural đầu vào và ta đặt số neural đầu ra là 7\n",
        "            w có kích thước là 6 hàng 7 cột\n",
        "            b có kích thước là 1 hàng 7 cột\n",
        "        \"\"\"\n",
        "        self.input=input\n",
        "        return np.dot(self.input,self.weight)+self.bias #Z=X.W+B\n",
        "\n",
        "\n",
        "    def backward(self,output_gradient,lr):\n",
        "        \"\"\"\n",
        "            ta cần tính được đạo hàm của hàm lỗi E với W, X, B và với Z\n",
        "            tính đạo hàm riêng dE/dW: giả sử ta dùng hàm loss E là MSE = 1/2(Z-Z')^2\n",
        "            + tính đạo hàm dE/dW00 theo quy tắc chuỗi nối tiếp thì\n",
        "            dE/dW00= (dE/dZ0).(dZ0/dW00) + (dE/dZ1).(dZ1/dW00) +...+ (dE/dZ6).(dZ6/dW00)\n",
        "            dE/dW13= (dE/dZ0).(dZ0/dW13) + (dE/dZ1).(dZ1/dW13) +..+ (dE/dZ3).(dZ3/dW13) + ...\n",
        "            ở đây có thể thấy được rằng từ (*) ở trên\n",
        "            thì dE/dW00 chỉ có (dE/dZ0).dZ0/dW00 {dZ0/dW00 = x0 còn các giá trị dZ1/dW00...đều bằng 0}\n",
        "            => dE/dW00 = (dE/dZ0). x0 ; dE/dW13 = (dE/dZ3).x1\n",
        "            theo quỹ tắc đạo hàm theo chuỗi thì ta cũng có thể đổi vị trí hay phép tính\n",
        "            dE/dW13 = (dE/dZ3).x1 hoặc x1.(dE/dZ3)\n",
        "            từ đây rút ra công thức tổng quát: dE/dW(i,j)=xi.(dE/dZj)\n",
        "            và rút ra công thức theo ma trận: Xt.(dE/dZ) (**)\n",
        "        \"\"\"\n",
        "        w_grad=np.dot(self.input.T,output_gradient)\n",
        "        bias_grad = np.mean(output_gradient, axis=0, keepdims=True)\n",
        "        self.weight-=lr*w_grad\n",
        "        self.bias-=lr* bias_grad\n",
        "        return np.dot(output_gradient,self.weight.T)"
      ],
      "metadata": {
        "id": "a_p0IebIJNp0"
      },
      "execution_count": 117,
      "outputs": []
    },
    {
      "cell_type": "markdown",
      "source": [
        "#Networks Architech"
      ],
      "metadata": {
        "id": "1I37GRFsDbK9"
      }
    },
    {
      "cell_type": "code",
      "source": [
        "networks=[Artificial_Neuron_Networks_new(784,512),\n",
        "                  Relu(),\n",
        "                  Artificial_Neuron_Networks_new(512,256),\n",
        "                  Relu(),\n",
        "                  Artificial_Neuron_Networks_new(256,128),\n",
        "                  Relu(),\n",
        "                  Artificial_Neuron_Networks_new(128,64),\n",
        "                  Relu(),\n",
        "                  Artificial_Neuron_Networks_new(64,32),\n",
        "                  Relu(),\n",
        "                  Artificial_Neuron_Networks_new(32,10),\n",
        "                  Softmax()]"
      ],
      "metadata": {
        "id": "T1f9giza2UQ1"
      },
      "execution_count": 118,
      "outputs": []
    },
    {
      "cell_type": "markdown",
      "source": [
        "#Predict func and Loss func\n"
      ],
      "metadata": {
        "id": "35IeQW77DgFy"
      }
    },
    {
      "cell_type": "code",
      "source": [
        "#Predict function\n",
        "def pred(networks,input):\n",
        "      output=input\n",
        "      for layer in networks:\n",
        "          output=layer.forward(output)\n",
        "      return output\n",
        "#loss function forrward\n",
        "def softmax_cross_entropy_loss(y_true, y_pred):\n",
        "      \"\"\"\n",
        "          y_true: (batch_size,) — nhãn đúng\n",
        "          logits: (batch_size, num_classes) — output thô từ mạng (chưa softmax)\n",
        "      \"\"\"\n",
        "      # softmax\n",
        "      eps = 1e-15\n",
        "      y_pred = np.clip(y_pred, eps, 1 - eps)\n",
        "      loss = -np.sum(y_true * np.log(y_pred)) / y_true.shape[0]\n",
        "      return loss\n",
        "#loss function backward\n",
        "def softmax_cross_entropy_loss_backward(y_true, y_pred):\n",
        "      \"\"\"\n",
        "          Gradient của softmax + cross-entropy\n",
        "          probs: output sau softmax\n",
        "          y_true: vector nhãn (batch_size,)\n",
        "      \"\"\"\n",
        "      return (y_pred - y_true) / y_true.shape[0]"
      ],
      "metadata": {
        "id": "PRD1quqI2Xxl"
      },
      "execution_count": 119,
      "outputs": []
    },
    {
      "cell_type": "markdown",
      "source": [
        "#Accuracy func"
      ],
      "metadata": {
        "id": "m6mRZImYDuWO"
      }
    },
    {
      "cell_type": "code",
      "source": [
        "#Accuracy function\n",
        "def accuracy(y_predict, y_true):\n",
        "    \"\"\"\n",
        "        Accuracy.\n",
        "        y_predict: (batch_size, num_classes)\n",
        "        y_true: (batch_size, num_classes) (one-hot encoded)\n",
        "    \"\"\"\n",
        "    predict_labels = np.argmax(y_predict, axis=1)\n",
        "    true_labels = np.argmax(y_true, axis=1)\n",
        "    return np.mean(predict_labels == true_labels)"
      ],
      "metadata": {
        "id": "OLeN-7uVmBq4"
      },
      "execution_count": 120,
      "outputs": []
    },
    {
      "cell_type": "markdown",
      "source": [
        "#Training model"
      ],
      "metadata": {
        "id": "Bj684zDJ5ahq"
      }
    },
    {
      "cell_type": "code",
      "source": [
        "#training\n",
        "def train(networks, data_loader, epochs=10, batch_size=32, learning_rate=0.01):\n",
        "    \"\"\"\n",
        "        Huấn luyện mạng neural network.\n",
        "        networks: 1 mảng các lớp kết nối đầy đủ.\n",
        "        data_loader: dữ liệu huấn luyện.\n",
        "        epochs: số vòng lặp huấn luyện(số lần toàn bộ dữ liệu được huấn luyện cho mô hình).\n",
        "        batch_size: số lượng mẫu mỗi batch.\n",
        "        learning_rate: tốc độ học.\n",
        "    \"\"\"\n",
        "    for epoch in tqdm(range(epochs)):\n",
        "        #Train params\n",
        "        train_loss = 0\n",
        "        train_acc = 0\n",
        "        num_batches = len(data_loader) // batch_size\n",
        "        # Validation params\n",
        "        val_loss=0\n",
        "        val_acc=0\n",
        "\n",
        "        ################## Training loop ###################\n",
        "        for _ in range(num_batches):\n",
        "            # get batch data train x and y\n",
        "            batch_X, batch_y = data_loader.get_batch(batch_size)\n",
        "\n",
        "            # forward\n",
        "            output = batch_X\n",
        "            for layer in networks:\n",
        "                output = layer.forward(output)\n",
        "            # compute loss\n",
        "            loss = softmax_cross_entropy_loss(batch_y, output)\n",
        "            train_loss += loss\n",
        "\n",
        "            # compute accuracy\n",
        "            acc = accuracy(output, batch_y)\n",
        "            train_acc += acc\n",
        "\n",
        "            # backward\n",
        "            grad = softmax_cross_entropy_loss_backward(batch_y, output)\n",
        "            for layer in reversed(networks):\n",
        "                grad = layer.backward(grad, learning_rate)\n",
        "        ################## end 1 epoch ###################\n",
        "\n",
        "\n",
        "        ################## Validation loop ##################\n",
        "        for _ in range(num_batches):\n",
        "            x_val_test,y_val_test = val_loader.get_batch(batch_size)\n",
        "\n",
        "            output_val=x_val_test\n",
        "            for layer in networks:\n",
        "                output_val = layer.forward(output_val)\n",
        "\n",
        "            loss_val = softmax_cross_entropy_loss(y_val_test, output_val)\n",
        "            val_loss += loss_val\n",
        "            acc_v=accuracy(output_val,y_val_test)\n",
        "            val_acc+=acc_v\n",
        "        ################## end 1 time validation ##############\n",
        "        # avegare loss and accuracy train in epoch\n",
        "        avg_loss_train = train_loss / num_batches\n",
        "        avg_acc_train = train_acc / num_batches\n",
        "        # avegare loss and accuracy validation in epoch\n",
        "        avg_loss_val = val_loss / num_batches\n",
        "        avg_acc_val = val_acc / num_batches\n",
        "        print(f\"                    Epoch {epoch+1}/{epochs} - Loss: {avg_loss_train:.4f} - Accuracy: {avg_acc_train:.4f}           Val_loss: {avg_loss_val:.4f} - Accuracy: {avg_acc_val:.4f}\")\n"
      ],
      "metadata": {
        "id": "OVHDFJt9mZpt"
      },
      "execution_count": 121,
      "outputs": []
    },
    {
      "cell_type": "markdown",
      "source": [
        "#Main training model"
      ],
      "metadata": {
        "id": "OvOTHU967Q7B"
      }
    },
    {
      "cell_type": "code",
      "source": [
        "if __name__==\"__main__\":\n",
        "\n",
        "    x_train,x_test,x_val,y_train,y_test,y_val=processed_data()\n",
        "    # load data train và test\n",
        "    train_loader  = load_data(x_train , y_train)\n",
        "    test_loader   = load_data(x_test  , y_test)\n",
        "    val_loader    =load_data (x_val    ,y_val)\n",
        "    # Huấn luyện mô hình\n",
        "    train(networks, train_loader, epochs=30, batch_size=64, learning_rate=0.001)"
      ],
      "metadata": {
        "colab": {
          "base_uri": "https://localhost:8080/"
        },
        "id": "Q8GZkiIL7QgQ",
        "outputId": "efbb3f91-74f8-4387-81e8-4096a9704e71"
      },
      "execution_count": 122,
      "outputs": [
        {
          "output_type": "stream",
          "name": "stderr",
          "text": [
            "  3%|▎         | 1/30 [00:24<11:57, 24.74s/it]"
          ]
        },
        {
          "output_type": "stream",
          "name": "stdout",
          "text": [
            "                    Epoch 1/30 - Loss: 2.1459 - Accuracy: 0.2505           Val_loss: 1.9330 - Accuracy: 0.3707\n"
          ]
        },
        {
          "output_type": "stream",
          "name": "stderr",
          "text": [
            "\r  7%|▋         | 2/30 [00:47<10:56, 23.46s/it]"
          ]
        },
        {
          "output_type": "stream",
          "name": "stdout",
          "text": [
            "                    Epoch 2/30 - Loss: 1.6684 - Accuracy: 0.4770           Val_loss: 1.3952 - Accuracy: 0.5697\n"
          ]
        },
        {
          "output_type": "stream",
          "name": "stderr",
          "text": [
            "\r 10%|█         | 3/30 [01:11<10:43, 23.84s/it]"
          ]
        },
        {
          "output_type": "stream",
          "name": "stdout",
          "text": [
            "                    Epoch 3/30 - Loss: 1.1253 - Accuracy: 0.6959           Val_loss: 0.8723 - Accuracy: 0.7797\n"
          ]
        },
        {
          "output_type": "stream",
          "name": "stderr",
          "text": [
            "\r 13%|█▎        | 4/30 [01:32<09:45, 22.52s/it]"
          ]
        },
        {
          "output_type": "stream",
          "name": "stdout",
          "text": [
            "                    Epoch 4/30 - Loss: 0.7246 - Accuracy: 0.8160           Val_loss: 0.6308 - Accuracy: 0.8294\n"
          ]
        },
        {
          "output_type": "stream",
          "name": "stderr",
          "text": [
            "\r 17%|█▋        | 5/30 [01:55<09:35, 23.01s/it]"
          ]
        },
        {
          "output_type": "stream",
          "name": "stdout",
          "text": [
            "                    Epoch 5/30 - Loss: 0.5565 - Accuracy: 0.8513           Val_loss: 0.5142 - Accuracy: 0.8590\n"
          ]
        },
        {
          "output_type": "stream",
          "name": "stderr",
          "text": [
            "\r 20%|██        | 6/30 [02:15<08:47, 21.96s/it]"
          ]
        },
        {
          "output_type": "stream",
          "name": "stdout",
          "text": [
            "                    Epoch 6/30 - Loss: 0.4700 - Accuracy: 0.8716           Val_loss: 0.4515 - Accuracy: 0.8751\n"
          ]
        },
        {
          "output_type": "stream",
          "name": "stderr",
          "text": [
            "\r 23%|██▎       | 7/30 [02:39<08:38, 22.52s/it]"
          ]
        },
        {
          "output_type": "stream",
          "name": "stdout",
          "text": [
            "                    Epoch 7/30 - Loss: 0.4170 - Accuracy: 0.8857           Val_loss: 0.4006 - Accuracy: 0.8909\n"
          ]
        },
        {
          "output_type": "stream",
          "name": "stderr",
          "text": [
            "\r 27%|██▋       | 8/30 [02:59<08:00, 21.84s/it]"
          ]
        },
        {
          "output_type": "stream",
          "name": "stdout",
          "text": [
            "                    Epoch 8/30 - Loss: 0.3793 - Accuracy: 0.8969           Val_loss: 0.3691 - Accuracy: 0.8985\n"
          ]
        },
        {
          "output_type": "stream",
          "name": "stderr",
          "text": [
            "\r 30%|███       | 9/30 [03:24<07:59, 22.83s/it]"
          ]
        },
        {
          "output_type": "stream",
          "name": "stdout",
          "text": [
            "                    Epoch 9/30 - Loss: 0.3486 - Accuracy: 0.9038           Val_loss: 0.3479 - Accuracy: 0.9009\n"
          ]
        },
        {
          "output_type": "stream",
          "name": "stderr",
          "text": [
            "\r 33%|███▎      | 10/30 [03:45<07:19, 22.00s/it]"
          ]
        },
        {
          "output_type": "stream",
          "name": "stdout",
          "text": [
            "                    Epoch 10/30 - Loss: 0.3233 - Accuracy: 0.9113           Val_loss: 0.3247 - Accuracy: 0.9071\n"
          ]
        },
        {
          "output_type": "stream",
          "name": "stderr",
          "text": [
            "\r 37%|███▋      | 11/30 [04:05<06:47, 21.46s/it]"
          ]
        },
        {
          "output_type": "stream",
          "name": "stdout",
          "text": [
            "                    Epoch 11/30 - Loss: 0.3073 - Accuracy: 0.9150           Val_loss: 0.3091 - Accuracy: 0.9129\n"
          ]
        },
        {
          "output_type": "stream",
          "name": "stderr",
          "text": [
            "\r 40%|████      | 12/30 [04:29<06:39, 22.21s/it]"
          ]
        },
        {
          "output_type": "stream",
          "name": "stdout",
          "text": [
            "                    Epoch 12/30 - Loss: 0.2958 - Accuracy: 0.9174           Val_loss: 0.2946 - Accuracy: 0.9146\n"
          ]
        },
        {
          "output_type": "stream",
          "name": "stderr",
          "text": [
            "\r 43%|████▎     | 13/30 [04:49<06:06, 21.57s/it]"
          ]
        },
        {
          "output_type": "stream",
          "name": "stdout",
          "text": [
            "                    Epoch 13/30 - Loss: 0.2823 - Accuracy: 0.9212           Val_loss: 0.2818 - Accuracy: 0.9171\n"
          ]
        },
        {
          "output_type": "stream",
          "name": "stderr",
          "text": [
            "\r 47%|████▋     | 14/30 [05:14<06:03, 22.69s/it]"
          ]
        },
        {
          "output_type": "stream",
          "name": "stdout",
          "text": [
            "                    Epoch 14/30 - Loss: 0.2635 - Accuracy: 0.9258           Val_loss: 0.2764 - Accuracy: 0.9183\n"
          ]
        },
        {
          "output_type": "stream",
          "name": "stderr",
          "text": [
            "\r 50%|█████     | 15/30 [05:35<05:30, 22.04s/it]"
          ]
        },
        {
          "output_type": "stream",
          "name": "stdout",
          "text": [
            "                    Epoch 15/30 - Loss: 0.2589 - Accuracy: 0.9273           Val_loss: 0.2711 - Accuracy: 0.9208\n"
          ]
        },
        {
          "output_type": "stream",
          "name": "stderr",
          "text": [
            "\r 53%|█████▎    | 16/30 [06:00<05:21, 22.98s/it]"
          ]
        },
        {
          "output_type": "stream",
          "name": "stdout",
          "text": [
            "                    Epoch 16/30 - Loss: 0.2444 - Accuracy: 0.9308           Val_loss: 0.2489 - Accuracy: 0.9287\n"
          ]
        },
        {
          "output_type": "stream",
          "name": "stderr",
          "text": [
            "\r 57%|█████▋    | 17/30 [06:20<04:47, 22.11s/it]"
          ]
        },
        {
          "output_type": "stream",
          "name": "stdout",
          "text": [
            "                    Epoch 17/30 - Loss: 0.2379 - Accuracy: 0.9316           Val_loss: 0.2462 - Accuracy: 0.9279\n"
          ]
        },
        {
          "output_type": "stream",
          "name": "stderr",
          "text": [
            "\r 60%|██████    | 18/30 [06:43<04:29, 22.50s/it]"
          ]
        },
        {
          "output_type": "stream",
          "name": "stdout",
          "text": [
            "                    Epoch 18/30 - Loss: 0.2285 - Accuracy: 0.9364           Val_loss: 0.2341 - Accuracy: 0.9319\n"
          ]
        },
        {
          "output_type": "stream",
          "name": "stderr",
          "text": [
            "\r 63%|██████▎   | 19/30 [07:04<04:00, 21.87s/it]"
          ]
        },
        {
          "output_type": "stream",
          "name": "stdout",
          "text": [
            "                    Epoch 19/30 - Loss: 0.2218 - Accuracy: 0.9355           Val_loss: 0.2285 - Accuracy: 0.9323\n"
          ]
        },
        {
          "output_type": "stream",
          "name": "stderr",
          "text": [
            "\r 67%|██████▋   | 20/30 [07:24<03:33, 21.36s/it]"
          ]
        },
        {
          "output_type": "stream",
          "name": "stdout",
          "text": [
            "                    Epoch 20/30 - Loss: 0.2149 - Accuracy: 0.9394           Val_loss: 0.2224 - Accuracy: 0.9344\n"
          ]
        },
        {
          "output_type": "stream",
          "name": "stderr",
          "text": [
            "\r 70%|███████   | 21/30 [07:48<03:19, 22.12s/it]"
          ]
        },
        {
          "output_type": "stream",
          "name": "stdout",
          "text": [
            "                    Epoch 21/30 - Loss: 0.2100 - Accuracy: 0.9391           Val_loss: 0.2175 - Accuracy: 0.9364\n"
          ]
        },
        {
          "output_type": "stream",
          "name": "stderr",
          "text": [
            "\r 73%|███████▎  | 22/30 [08:08<02:51, 21.47s/it]"
          ]
        },
        {
          "output_type": "stream",
          "name": "stdout",
          "text": [
            "                    Epoch 22/30 - Loss: 0.1974 - Accuracy: 0.9439           Val_loss: 0.2141 - Accuracy: 0.9372\n"
          ]
        },
        {
          "output_type": "stream",
          "name": "stderr",
          "text": [
            "\r 77%|███████▋  | 23/30 [08:32<02:35, 22.18s/it]"
          ]
        },
        {
          "output_type": "stream",
          "name": "stdout",
          "text": [
            "                    Epoch 23/30 - Loss: 0.1984 - Accuracy: 0.9440           Val_loss: 0.2099 - Accuracy: 0.9400\n"
          ]
        },
        {
          "output_type": "stream",
          "name": "stderr",
          "text": [
            "\r 80%|████████  | 24/30 [08:51<02:08, 21.49s/it]"
          ]
        },
        {
          "output_type": "stream",
          "name": "stdout",
          "text": [
            "                    Epoch 24/30 - Loss: 0.1887 - Accuracy: 0.9467           Val_loss: 0.2021 - Accuracy: 0.9396\n"
          ]
        },
        {
          "output_type": "stream",
          "name": "stderr",
          "text": [
            "\r 83%|████████▎ | 25/30 [09:14<01:48, 21.75s/it]"
          ]
        },
        {
          "output_type": "stream",
          "name": "stdout",
          "text": [
            "                    Epoch 25/30 - Loss: 0.1839 - Accuracy: 0.9472           Val_loss: 0.1951 - Accuracy: 0.9415\n"
          ]
        },
        {
          "output_type": "stream",
          "name": "stderr",
          "text": [
            "\r 87%|████████▋ | 26/30 [09:35<01:26, 21.71s/it]"
          ]
        },
        {
          "output_type": "stream",
          "name": "stdout",
          "text": [
            "                    Epoch 26/30 - Loss: 0.1817 - Accuracy: 0.9488           Val_loss: 0.1924 - Accuracy: 0.9436\n"
          ]
        },
        {
          "output_type": "stream",
          "name": "stderr",
          "text": [
            "\r 90%|█████████ | 27/30 [10:00<01:07, 22.55s/it]"
          ]
        },
        {
          "output_type": "stream",
          "name": "stdout",
          "text": [
            "                    Epoch 27/30 - Loss: 0.1784 - Accuracy: 0.9485           Val_loss: 0.1943 - Accuracy: 0.9428\n"
          ]
        },
        {
          "output_type": "stream",
          "name": "stderr",
          "text": [
            "\r 93%|█████████▎| 28/30 [10:23<00:45, 22.56s/it]"
          ]
        },
        {
          "output_type": "stream",
          "name": "stdout",
          "text": [
            "                    Epoch 28/30 - Loss: 0.1697 - Accuracy: 0.9525           Val_loss: 0.1826 - Accuracy: 0.9435\n"
          ]
        },
        {
          "output_type": "stream",
          "name": "stderr",
          "text": [
            "\r 97%|█████████▋| 29/30 [10:42<00:21, 21.75s/it]"
          ]
        },
        {
          "output_type": "stream",
          "name": "stdout",
          "text": [
            "                    Epoch 29/30 - Loss: 0.1651 - Accuracy: 0.9534           Val_loss: 0.1887 - Accuracy: 0.9446\n"
          ]
        },
        {
          "output_type": "stream",
          "name": "stderr",
          "text": [
            "100%|██████████| 30/30 [11:06<00:00, 22.22s/it]"
          ]
        },
        {
          "output_type": "stream",
          "name": "stdout",
          "text": [
            "                    Epoch 30/30 - Loss: 0.1637 - Accuracy: 0.9532           Val_loss: 0.1841 - Accuracy: 0.9445\n"
          ]
        },
        {
          "output_type": "stream",
          "name": "stderr",
          "text": [
            "\n"
          ]
        }
      ]
    },
    {
      "cell_type": "markdown",
      "source": [
        "#Predict x test"
      ],
      "metadata": {
        "id": "PoDNiHnS7tFf"
      }
    },
    {
      "cell_type": "code",
      "source": [
        "def visualize_predictions(networks, data_loader, num_samples=10):\n",
        "    \"\"\"\n",
        "        Show 10 images from test data set and labels.\n",
        "    \"\"\"\n",
        "    batch_x, batch_y = data_loader.get_batch(num_samples)  # get 10 imgaes from test data set\n",
        "\n",
        "    output = batch_x\n",
        "    for layer in networks:\n",
        "        output = layer.forward(output)\n",
        "\n",
        "    predictions = np.argmax(output, axis=1)\n",
        "    true_labels = np.argmax(batch_y, axis=1)\n",
        "\n",
        "    fig, axes = plt.subplots(2, 5, figsize=(10, 5))\n",
        "    axes = axes.ravel()\n",
        "\n",
        "    for i in range(num_samples):\n",
        "        axes[i].imshow(batch_x[i].reshape(28, 28), cmap='gray')\n",
        "        axes[i].set_title(f\"Pred: {predictions[i]}\\nTrue: {true_labels[i]}\")\n",
        "        axes[i].axis('off')\n",
        "\n",
        "    plt.tight_layout()\n",
        "    plt.show()\n",
        "\n",
        "visualize_predictions(networks, test_loader, num_samples=10)\n"
      ],
      "metadata": {
        "colab": {
          "base_uri": "https://localhost:8080/",
          "height": 494
        },
        "id": "yH_HeG5i-WyS",
        "outputId": "3c5596ff-0526-4b30-b95c-fef0b923613b"
      },
      "execution_count": 128,
      "outputs": [
        {
          "output_type": "display_data",
          "data": {
            "text/plain": [
              "<Figure size 1000x500 with 10 Axes>"
            ],
            "image/png": "[encoded data removed]"
          },
          "metadata": {}
        }
      ]
    },
    {
      "cell_type": "markdown",
      "source": [
        "#Save model"
      ],
      "metadata": {
        "id": "VFkV4la18jh5"
      }
    },
    {
      "cell_type": "code",
      "source": [
        "# save weight model\n",
        "def save_weights(networks, filename=\"model_weights1.npz\"):\n",
        "    weights = {}\n",
        "    biases = {}\n",
        "\n",
        "    for i, layer in enumerate(networks):\n",
        "        if hasattr(layer, \"weight\") and hasattr(layer, \"bias\"):\n",
        "            weights[f\"W_{i}\"] = layer.weight\n",
        "            biases[f\"b_{i}\"] = layer.bias\n",
        "\n",
        "    np.savez(filename, **weights, **biases)\n",
        "    print(f\"Weight save to {filename}\")\n",
        "\n",
        "save_weights(networks)\n"
      ],
      "metadata": {
        "id": "PnEAVPOB7Ig1",
        "colab": {
          "base_uri": "https://localhost:8080/"
        },
        "outputId": "a85111fa-2804-4103-89d7-723133d107b8"
      },
      "execution_count": 131,
      "outputs": [
        {
          "output_type": "stream",
          "name": "stdout",
          "text": [
            "Weight save to model_weights1.npz\n"
          ]
        }
      ]
    },
    {
      "cell_type": "markdown",
      "source": [
        "#Load model"
      ],
      "metadata": {
        "id": "8mqfS-sQ8oTi"
      }
    },
    {
      "cell_type": "code",
      "source": [
        "def load_weights(networks, filename=\"model_weights.npz\"):\n",
        "    data = np.load(filename)\n",
        "    for i, layer in enumerate(networks):\n",
        "        if hasattr(layer, \"weight\") and hasattr(layer, \"bias\"):\n",
        "            layer.weight = data[f\"W_{i}\"]\n",
        "            layer.bias = data[f\"b_{i}\"]\n",
        "    print(f\"Weight load from {filename}\")\n",
        "\n",
        "load_weights(networks)\n"
      ],
      "metadata": {
        "id": "Z3XnjkDl8Sxk",
        "colab": {
          "base_uri": "https://localhost:8080/"
        },
        "outputId": "1d743d9a-f1b9-4a47-ce20-844b7cbe3cd0"
      },
      "execution_count": 132,
      "outputs": [
        {
          "output_type": "stream",
          "name": "stdout",
          "text": [
            "Weight load from model_weights.npz\n"
          ]
        }
      ]
    },
    {
      "cell_type": "markdown",
      "source": [
        "#Test"
      ],
      "metadata": {
        "id": "gLlI5jAu8rU3"
      }
    },
    {
      "cell_type": "code",
      "source": [
        "def test_model(networks, data_loader, num_samples=100):\n",
        "    batch_X, batch_y = data_loader.get_batch(num_samples)  # get 10 image test\n",
        "\n",
        "    output = batch_X\n",
        "    for layer in networks:\n",
        "        output = layer.forward(output)\n",
        "\n",
        "    predictions = np.argmax(output, axis=1)\n",
        "    true_labels = np.argmax(batch_y, axis=1)\n",
        "    acc=np.mean(predictions==true_labels)\n",
        "    print(\"Predict  |  Label\")\n",
        "    print(\"-\" * 20)\n",
        "    for pred, true in zip(predictions[0:5], true_labels[0:5]):\n",
        "        print(f\"   {pred}       |     {true}\")\n",
        "    print(acc)\n",
        "load_weights(networks, \"model_weights.npz\")\n",
        "\n",
        "test_model(networks, test_loader, num_samples=10000)\n"
      ],
      "metadata": {
        "id": "BeDM4vFe9EJP",
        "colab": {
          "base_uri": "https://localhost:8080/"
        },
        "outputId": "0b661666-1f90-426d-a824-cb4eefe57e27"
      },
      "execution_count": 133,
      "outputs": [
        {
          "output_type": "stream",
          "name": "stdout",
          "text": [
            "Weight load from model_weights.npz\n",
            "Predict  |  Label\n",
            "--------------------\n",
            "   3       |     3\n",
            "   8       |     8\n",
            "   1       |     1\n",
            "   3       |     3\n",
            "   6       |     6\n",
            "0.9497\n"
          ]
        }
      ]
    }
  ]
}